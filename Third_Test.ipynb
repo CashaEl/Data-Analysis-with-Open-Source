{
  "nbformat": 4,
  "nbformat_minor": 0,
  "metadata": {
    "colab": {
      "provenance": [],
      "authorship_tag": "ABX9TyOawd+FALDEe4+LKYoJx0YH",
      "include_colab_link": true
    },
    "kernelspec": {
      "name": "python3",
      "display_name": "Python 3"
    },
    "language_info": {
      "name": "python"
    }
  },
  "cells": [
    {
      "cell_type": "markdown",
      "metadata": {
        "id": "view-in-github",
        "colab_type": "text"
      },
      "source": [
        "<a href=\"https://colab.research.google.com/github/CashaEl/Data-Analysis-with-Open-Source/blob/main/Third_Test.ipynb\" target=\"_parent\"><img src=\"https://colab.research.google.com/assets/colab-badge.svg\" alt=\"Open In Colab\"/></a>"
      ]
    },
    {
      "cell_type": "code",
      "execution_count": 2,
      "metadata": {
        "colab": {
          "base_uri": "https://localhost:8080/"
        },
        "id": "47aIHL9Wyu9q",
        "outputId": "696ac9f3-f2ba-4eb8-c346-25e3060438f0"
      },
      "outputs": [
        {
          "output_type": "stream",
          "name": "stdout",
          "text": [
            "100 [200, 300, 400] 500\n"
          ]
        }
      ],
      "source": [
        "data = [100, 200, 300, 400, 500]\n",
        "a, *b, c = data\n",
        "print(a,b,c)"
      ]
    }
  ]
}