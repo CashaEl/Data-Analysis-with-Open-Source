{
  "nbformat": 4,
  "nbformat_minor": 0,
  "metadata": {
    "colab": {
      "provenance": [],
      "authorship_tag": "ABX9TyOfcpgPwHo6m/qz1UV1ypeP",
      "include_colab_link": true
    },
    "kernelspec": {
      "name": "python3",
      "display_name": "Python 3"
    },
    "language_info": {
      "name": "python"
    }
  },
  "cells": [
    {
      "cell_type": "markdown",
      "metadata": {
        "id": "view-in-github",
        "colab_type": "text"
      },
      "source": [
        "<a href=\"https://colab.research.google.com/github/CashaEl/Data-Analysis-with-Open-Source/blob/main/Third_Test.ipynb\" target=\"_parent\"><img src=\"https://colab.research.google.com/assets/colab-badge.svg\" alt=\"Open In Colab\"/></a>"
      ]
    },
    {
      "cell_type": "code",
      "execution_count": 8,
      "metadata": {
        "colab": {
          "base_uri": "https://localhost:8080/"
        },
        "id": "47aIHL9Wyu9q",
        "outputId": "5e10dd60-3e3a-4598-93de-149e67456249"
      },
      "outputs": [
        {
          "output_type": "stream",
          "name": "stdout",
          "text": [
            "빨강:255, 초록:128, 파랑:0\n",
            "첫번째 문자: A, 두번째 문자: B, 세번째 문자:C\n",
            "\n",
            "첫 달(1월) 판매액:1200\n",
            "마지막 달(12월) 판매액:2000\n",
            "중간 달(2~11월)의 판매액: [1350, 1420, 1500, 1300, 1580, 1620, 1700, 1800, 1850, 1900]\n"
          ]
        }
      ],
      "source": [
        "#data = [100, 200, 300, 400, 500]\n",
        "#a, *b, c = data\n",
        "#print(a,b,c)\n",
        "\n",
        "rgb = [255, 128, 0]\n",
        "red, green, blue = rgb\n",
        "print(f\"빨강:{red}, 초록:{green}, 파랑:{blue}\")\n",
        "word = \"ABC\"\n",
        "fi, se, th = word\n",
        "print(f\"첫번째 문자: {fi}, 두번째 문자: {se}, 세번째 문자:{th}\")\n",
        "print()\n",
        "\n",
        "monthly_sales = [1200, 1350, 1420, 1500, 1300, 1580, 1620, 1700, 1800, 1850, 1900, 2000]\n",
        "first, *middle, last = monthly_sales\n",
        "print(f\"첫 달(1월) 판매액:{first}\")\n",
        "print(f\"마지막 달(12월) 판매액:{last}\")\n",
        "print(f\"중간 달(2~11월)의 판매액: {middle}\")"
      ]
    },
    {
      "cell_type": "code",
      "source": [
        "for _ in range(5):\n",
        "    print(\"Hello, Data Analysis with Open Source!\")\n",
        "print()\n",
        "students = [\n",
        "    (20251234, \"김철수\", \"컴퓨터과학\", 2, 3.8),\n",
        "    (20265678, \"이영희\", \"생활과학부\", 3, 4.2),\n",
        "    (20243456, \"박민수\", \"사회복지학과\", 1, 3.5)\n",
        "]\n",
        "print(\"이름과 성적 출력:\")\n",
        "for stn, name, dept, year, grade in students:\n",
        "    print(f\"{name}의 성적: {grade}\")"
      ],
      "metadata": {
        "colab": {
          "base_uri": "https://localhost:8080/"
        },
        "id": "xgl7K_XWgSUr",
        "outputId": "6cb0ab52-0f62-454a-a89f-2b756295ba9d"
      },
      "execution_count": 13,
      "outputs": [
        {
          "output_type": "stream",
          "name": "stdout",
          "text": [
            "Hello, Data Analysis with Open Source!\n",
            "Hello, Data Analysis with Open Source!\n",
            "Hello, Data Analysis with Open Source!\n",
            "Hello, Data Analysis with Open Source!\n",
            "Hello, Data Analysis with Open Source!\n",
            "\n",
            "이름과 성적 출력:\n",
            "김철수의 성적: 3.8\n",
            "이영희의 성적: 4.2\n",
            "박민수의 성적: 3.5\n"
          ]
        }
      ]
    },
    {
      "cell_type": "code",
      "source": [
        "try:\n",
        "    number = int(input(\"숫자를 입력하세요: \"))\n",
        "    result = 10 / number\n",
        "except ZeroDivisionError:\n",
        "    print(\"0으로 나눌 수 없습니다.\")\n",
        "except ValueError:\n",
        "    print(\"문자를 입력할 수 없습니다.\")\n",
        "else:\n",
        "    print(f\"10을 {number}로 나누면 몫은 {result}입니다.\")"
      ],
      "metadata": {
        "id": "1YYax3rTkMPG",
        "outputId": "bab705d7-fec6-4411-f890-cb89c1a4df37",
        "colab": {
          "base_uri": "https://localhost:8080/"
        }
      },
      "execution_count": 14,
      "outputs": [
        {
          "output_type": "stream",
          "name": "stdout",
          "text": [
            "숫자를 입력하세요: 2\n",
            "10을 2로 나누면 몫은 5.0입니다.\n"
          ]
        }
      ]
    },
    {
      "cell_type": "code",
      "source": [
        "try:\n",
        "    file = open(\"data.csv\", \"r\")\n",
        "    content = file.read()\n",
        "    print(content)\n",
        "except FileNotFoundError:\n",
        "    print(\"파일을 찾을 수 없습니다.\")\n",
        "finally:\n",
        "    print(\"파일 작업 종료.\")\n",
        "    file.close()"
      ],
      "metadata": {
        "id": "k89OELOnv4b7",
        "outputId": "05f4c989-b2e0-459a-c563-6d2447773490",
        "colab": {
          "base_uri": "https://localhost:8080/"
        }
      },
      "execution_count": 17,
      "outputs": [
        {
          "output_type": "stream",
          "name": "stdout",
          "text": [
            "\n",
            "파일 작업 종료.\n"
          ]
        }
      ]
    },
    {
      "cell_type": "code",
      "source": [
        "def add(x):\n",
        "    return x + 2\n",
        "print(add(3))\n",
        "\n",
        "add_lambda = lambda x: x + 2\n",
        "print(add_lambda(3))\n",
        "\n",
        "employees = {\"이지혜\": 3000000, \"구민준\": 5000000, \"방서연\":4100000}\n",
        "adjust_salary = lambda salary: int(salary * 1.1)\n",
        "updated_salaries = {name: adjust_salary(salary) for name, salary in employees.items()}\n",
        "\n",
        "for name, salary in updated_salaries.items():\n",
        "    print(f\"{name}: {salary:,}원\")\n"
      ],
      "metadata": {
        "id": "OB5UPAPRwaUP",
        "outputId": "65b605b2-159f-4f56-877d-a4c1fbfe23fb",
        "colab": {
          "base_uri": "https://localhost:8080/"
        }
      },
      "execution_count": 25,
      "outputs": [
        {
          "output_type": "stream",
          "name": "stdout",
          "text": [
            "5\n",
            "5\n",
            "이지혜: 3,300,000원\n",
            "구민준: 5,500,000원\n",
            "방서연: 4,510,000원\n"
          ]
        }
      ]
    }
  ]
}