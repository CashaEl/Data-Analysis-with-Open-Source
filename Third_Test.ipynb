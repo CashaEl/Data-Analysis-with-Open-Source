{
  "nbformat": 4,
  "nbformat_minor": 0,
  "metadata": {
    "colab": {
      "provenance": [],
      "authorship_tag": "ABX9TyMMEL4CTbCs1lQo3p91VJxt",
      "include_colab_link": true
    },
    "kernelspec": {
      "name": "python3",
      "display_name": "Python 3"
    },
    "language_info": {
      "name": "python"
    }
  },
  "cells": [
    {
      "cell_type": "markdown",
      "metadata": {
        "id": "view-in-github",
        "colab_type": "text"
      },
      "source": [
        "<a href=\"https://colab.research.google.com/github/CashaEl/Data-Analysis-with-Open-Source/blob/main/Third_Test.ipynb\" target=\"_parent\"><img src=\"https://colab.research.google.com/assets/colab-badge.svg\" alt=\"Open In Colab\"/></a>"
      ]
    },
    {
      "cell_type": "code",
      "execution_count": 8,
      "metadata": {
        "colab": {
          "base_uri": "https://localhost:8080/"
        },
        "id": "47aIHL9Wyu9q",
        "outputId": "5e10dd60-3e3a-4598-93de-149e67456249"
      },
      "outputs": [
        {
          "output_type": "stream",
          "name": "stdout",
          "text": [
            "빨강:255, 초록:128, 파랑:0\n",
            "첫번째 문자: A, 두번째 문자: B, 세번째 문자:C\n",
            "\n",
            "첫 달(1월) 판매액:1200\n",
            "마지막 달(12월) 판매액:2000\n",
            "중간 달(2~11월)의 판매액: [1350, 1420, 1500, 1300, 1580, 1620, 1700, 1800, 1850, 1900]\n"
          ]
        }
      ],
      "source": [
        "#data = [100, 200, 300, 400, 500]\n",
        "#a, *b, c = data\n",
        "#print(a,b,c)\n",
        "\n",
        "rgb = [255, 128, 0]\n",
        "red, green, blue = rgb\n",
        "print(f\"빨강:{red}, 초록:{green}, 파랑:{blue}\")\n",
        "word = \"ABC\"\n",
        "fi, se, th = word\n",
        "print(f\"첫번째 문자: {fi}, 두번째 문자: {se}, 세번째 문자:{th}\")\n",
        "print()\n",
        "\n",
        "monthly_sales = [1200, 1350, 1420, 1500, 1300, 1580, 1620, 1700, 1800, 1850, 1900, 2000]\n",
        "first, *middle, last = monthly_sales\n",
        "print(f\"첫 달(1월) 판매액:{first}\")\n",
        "print(f\"마지막 달(12월) 판매액:{last}\")\n",
        "print(f\"중간 달(2~11월)의 판매액: {middle}\")"
      ]
    },
    {
      "cell_type": "code",
      "source": [],
      "metadata": {
        "id": "xgl7K_XWgSUr"
      },
      "execution_count": null,
      "outputs": []
    }
  ]
}